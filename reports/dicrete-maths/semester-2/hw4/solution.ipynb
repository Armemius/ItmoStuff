{
 "cells": [
  {
   "cell_type": "code",
   "execution_count": 1,
   "metadata": {},
   "outputs": [
    {
     "name": "stdout",
     "output_type": "stream",
     "text": [
      "g = [[0, 0, 0, 1, 0, 0, 0, 1, 1, 1, 0, 1],\n",
      " [0, 0, 0, 0, 1, 0, 1, 0, 1, 0, 0, 0],\n",
      " [0, 0, 0, 1, 0, 1, 1, 1, 0, 1, 1, 0],\n",
      " [1, 0, 1, 0, 0, 0, 1, 0, 0, 0, 0, 1],\n",
      " [0, 1, 0, 0, 0, 1, 1, 0, 0, 0, 0, 1],\n",
      " [0, 0, 1, 0, 1, 0, 1, 0, 1, 0, 0, 1],\n",
      " [0, 1, 1, 1, 1, 1, 0, 1, 0, 0, 1, 0],\n",
      " [1, 0, 1, 0, 0, 0, 1, 0, 0, 0, 1, 0],\n",
      " [1, 1, 0, 0, 0, 1, 0, 0, 0, 1, 1, 0],\n",
      " [1, 0, 1, 0, 0, 0, 0, 0, 1, 0, 1, 1],\n",
      " [0, 0, 1, 0, 0, 0, 1, 1, 1, 1, 0, 1],\n",
      " [1, 0, 0, 1, 1, 1, 0, 0, 0, 1, 1, 0]]\n"
     ]
    }
   ],
   "source": [
    "from pprint import pprint\n",
    "\n",
    "g = [[0, None, None, 5, None, None, None, 4, 1, 4, None, 1],\n",
    "[None , 0, None, None, 4, None, 4, None, 1, None, None, None],\n",
    "[None , None, 0, 5, None, 4, 3, 4, None, 3, 3, None],\n",
    "[5, None, 5, 0, None, None, 1, None, None, None, None, 1],\n",
    "[None , 4, None, None, 0, 4, 4, None, None, None, None, 5],\n",
    "[None , None, 4, None, 4, 0, 5, None, 3, None, None, 2],\n",
    "[None , 4, 3, 1, 4, 5, 0, 2, None, None, 5, None],\n",
    "[4, None, 4, None, None, None, 2, 0, None, None, 1, None],\n",
    "[1, 1, None, None, None, 3, None, None, 0, 4, 4, None],\n",
    "[4, None, 3, None, None, None, None, None, 4, 0, 5, 5],\n",
    "[None , None, 3, None, None, None, 5, 1, 4, 5, 0, 2],\n",
    "[1, None, None, 1, 5, 2, None, None, None, 5, 2, 0]]\n",
    "\n",
    "t = [[(1 if item is not None and item > 0 else 0) for item in row] for row in g]\n",
    "print('g = ', end = '')\n",
    "pprint(t)"
   ]
  },
  {
   "cell_type": "code",
   "execution_count": 2,
   "metadata": {},
   "outputs": [
    {
     "ename": "SyntaxError",
     "evalue": "invalid syntax. Perhaps you forgot a comma? (1556505799.py, line 1)",
     "output_type": "error",
     "traceback": [
      "\u001b[0;36m  Cell \u001b[0;32mIn[2], line 1\u001b[0;36m\u001b[0m\n\u001b[0;31m    [...document.querySelector('.matrix-input__grid').children].map((x, i) => [...x.children].map((item, j) => item.value = g[i][j]))\u001b[0m\n\u001b[0m     ^\u001b[0m\n\u001b[0;31mSyntaxError\u001b[0m\u001b[0;31m:\u001b[0m invalid syntax. Perhaps you forgot a comma?\n"
     ]
    }
   ],
   "source": [
    "[...document.querySelector('.matrix-input__grid').children].map((x, i) => [...x.children].map((item, j) => item.value = g[i][j]))"
   ]
  }
 ],
 "metadata": {
  "kernelspec": {
   "display_name": "Python 3",
   "language": "python",
   "name": "python3"
  },
  "language_info": {
   "codemirror_mode": {
    "name": "ipython",
    "version": 3
   },
   "file_extension": ".py",
   "mimetype": "text/x-python",
   "name": "python",
   "nbconvert_exporter": "python",
   "pygments_lexer": "ipython3",
   "version": "3.11.2"
  },
  "orig_nbformat": 4
 },
 "nbformat": 4,
 "nbformat_minor": 2
}
